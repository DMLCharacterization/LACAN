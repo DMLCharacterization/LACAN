{
 "cells": [
  {
   "cell_type": "code",
   "execution_count": null,
   "metadata": {},
   "outputs": [],
   "source": [
    "import pandas as pd\n",
    "import numpy as np\n",
    "import operator, math\n",
    "from scipy.stats import pearsonr, spearmanr, entropy\n",
    "from sklearn.feature_selection import SelectKBest\n",
    "from sklearn.feature_selection import chi2, mutual_info_regression, f_classif, mutual_info_classif, f_regression\n",
    "import seaborn as sns\n",
    "import matplotlib.pyplot as plt\n",
    "import scipy.stats as st"
   ]
  },
  {
   "cell_type": "code",
   "execution_count": null,
   "metadata": {},
   "outputs": [],
   "source": [
    "EPSILON = 1.e-25\n",
    "\n",
    "def pearson_correlation(x, y):\n",
    "    return pearsonr(x, y)[0]\n",
    "\n",
    "\n",
    "\n",
    "def spearman_correlation(x, y):\n",
    "    return spearmanr(x, y)[0]\n",
    "\n",
    "\n",
    "\n",
    "def normal_mutual_information(x, y):\n",
    "    return -0.5 * math.log(1 - pearson_correlation(x,y) ** 2 + EPSILON)\n",
    "\n",
    "\n",
    "\n",
    "def chi2_score(x, y):\n",
    "    return list(chi2(np.array(x).reshape(-1, 1), y)[0])[0]\n",
    "\n",
    "\n",
    "def gini(actual, pred):\n",
    "    assert (len(actual) == len(pred))\n",
    "    all = np.asarray(np.c_[actual, pred, np.arange(len(actual))], dtype=np.float)\n",
    "    all = all[np.lexsort((all[:, 2], -1 * all[:, 1]))]\n",
    "    totalLosses = all[:, 0].sum()\n",
    "    giniSum = all[:, 0].cumsum().sum() / totalLosses\n",
    "\n",
    "    giniSum -= (len(actual) + 1) / 2.\n",
    "    return giniSum / len(actual)\n",
    "\n",
    "\n",
    "def gini_normalized(actual, pred):\n",
    "    return gini(actual, pred) / gini(actual, actual)"
   ]
  },
  {
   "cell_type": "code",
   "execution_count": null,
   "metadata": {},
   "outputs": [],
   "source": []
  },
  {
   "cell_type": "code",
   "execution_count": null,
   "metadata": {},
   "outputs": [],
   "source": [
    "data = pd.read_csv(\"metrics.csv\")\n",
    "data.drop(['host', 'jobId', 'stageId', 'jobGroup', 'taskId', 'launchTime', 'finishTime', 'executorId', 'taskLocality', 'speculative', 'gettingResultTime', 'successful', 'phase', 'experimentId', 'transformTime', 'numUpdatedBlockStatuses', 'diskBytesSpilled', 'memoryBytesSpilled', 'recordsWritten', 'bytesWritten', 'features', 'mse', 'mae', 'rmse', 'r2', 'algorithm', 'dataset', 'family', 'platform', 'platformId', 'runId', 'scenarioId', 'splitter', 'workflowId', 'silhouette', 'f1', 'weightedPrecision', 'weightedRecall','accuracy', 'Unnamed: 0'], inplace=True, axis=1, errors='igonre')"
   ]
  },
  {
   "cell_type": "code",
   "execution_count": null,
   "metadata": {},
   "outputs": [],
   "source": []
  },
  {
   "cell_type": "code",
   "execution_count": null,
   "metadata": {},
   "outputs": [],
   "source": [
    "y = list(data.duration)\n",
    "data.drop([\"duration\"], inplace=True, axis=1)"
   ]
  },
  {
   "cell_type": "code",
   "execution_count": null,
   "metadata": {},
   "outputs": [],
   "source": [
    "res = []\n",
    "for c in data.columns:\n",
    "    res.append((c, normal_mutual_information(list(data[c]), y)))\n",
    "res = sorted(res, reverse=True, key=operator.itemgetter(1))\n",
    "with open(\"normal_mutual_info.csv\", \"w\") as f:\n",
    "    f.write(\"\\n\".join([\"{},{}\".format(x[0], x[1]) for x in res]))"
   ]
  },
  {
   "cell_type": "code",
   "execution_count": null,
   "metadata": {},
   "outputs": [],
   "source": [
    "res = []\n",
    "for c in data.columns:\n",
    "    res.append((c, pearson_correlation(list(data[c]), y)))\n",
    "res = [(y[0], y[1]) for y in sorted([(x[0], x[1], abs(x[1])) for x in res], reverse=True, key=operator.itemgetter(2))]\n",
    "with open(\"pearson.csv\", \"w\") as f:\n",
    "    f.write(\"\\n\".join([\"{},{}\".format(x[0], x[1]) for x in res]))"
   ]
  },
  {
   "cell_type": "code",
   "execution_count": null,
   "metadata": {},
   "outputs": [],
   "source": [
    "res = []\n",
    "for c in data.columns:\n",
    "    res.append((c, spearman_correlation(list(data[c]), y)))\n",
    "res = [(y[0], y[1]) for y in sorted([(x[0], x[1], abs(x[1])) for x in res], reverse=True, key=operator.itemgetter(2))]\n",
    "with open(\"spearman.csv\", \"w\") as f:\n",
    "    f.write(\"\\n\".join([\"{},{}\".format(x[0], x[1]) for x in res]))"
   ]
  },
  {
   "cell_type": "code",
   "execution_count": null,
   "metadata": {},
   "outputs": [],
   "source": [
    "res = []\n",
    "for c in data.columns:\n",
    "    res.append((c, entropy(list(data[c]), y)))\n",
    "res = sorted(res, key=operator.itemgetter(1))\n",
    "with open(\"entropy.csv\", \"w\") as f:\n",
    "    f.write(\"\\n\".join([\"{},{}\".format(x[0], x[1]) for x in res]))"
   ]
  },
  {
   "cell_type": "code",
   "execution_count": null,
   "metadata": {},
   "outputs": [],
   "source": []
  },
  {
   "cell_type": "code",
   "execution_count": null,
   "metadata": {},
   "outputs": [],
   "source": []
  },
  {
   "cell_type": "code",
   "execution_count": null,
   "metadata": {},
   "outputs": [],
   "source": []
  }
 ],
 "metadata": {
  "kernelspec": {
   "display_name": "Python 3",
   "language": "python",
   "name": "python3"
  },
  "language_info": {
   "codemirror_mode": {
    "name": "ipython",
    "version": 3
   },
   "file_extension": ".py",
   "mimetype": "text/x-python",
   "name": "python",
   "nbconvert_exporter": "python",
   "pygments_lexer": "ipython3",
   "version": "3.6.7"
  }
 },
 "nbformat": 4,
 "nbformat_minor": 2
}
