{
 "cells": [
  {
   "cell_type": "code",
   "execution_count": 1,
   "metadata": {},
   "outputs": [],
   "source": [
    "import seaborn as sns\n",
    "import numpy as np\n",
    "import pandas as pd\n",
    "import matplotlib.pyplot as plt\n",
    "from tqdm import tqdm"
   ]
  },
  {
   "cell_type": "code",
   "execution_count": 2,
   "metadata": {},
   "outputs": [],
   "source": [
    "df = pd.read_csv('/home/admo120104/Downloads/25_training.csv')"
   ]
  },
  {
   "cell_type": "code",
   "execution_count": 3,
   "metadata": {},
   "outputs": [],
   "source": [
    "keep = df.columns[~df.columns.str.contains('boost')]\n",
    "keep = keep.drop('Unnamed: 0')\n",
    "\n",
    "df = df[keep]\n",
    "\n",
    "spark = df.columns[df.columns.str.contains('spark')]"
   ]
  },
  {
   "cell_type": "code",
   "execution_count": 4,
   "metadata": {},
   "outputs": [],
   "source": [
    "algorithms_mapping = {\n",
    "    'BisectingKMeans': 'BKM',\n",
    "    'KMeans': 'KM',\n",
    "    'Tree': 'DT',\n",
    "    'Logistic': 'BLR',\n",
    "    'Linear': 'LR',\n",
    "    'GBT': 'GBT',\n",
    "    'RFR': 'RFR',\n",
    "    'GMM': 'GMM',\n",
    "    'MLP': 'MLP'\n",
    "}\n",
    "\n",
    "datasets_mapping = {\n",
    "    'drivface': 'DDF',\n",
    "    'drift': 'DGS',\n",
    "    'geomagnetic': 'DSS',\n",
    "    'drugs': 'DDR',\n",
    "    'higgs': 'DHG'\n",
    "}"
   ]
  },
  {
   "cell_type": "code",
   "execution_count": 5,
   "metadata": {},
   "outputs": [],
   "source": [
    "df['algorithm'] = df['algorithm'].replace(algorithms_mapping)\n",
    "df['dataset'] = df['dataset'].replace(datasets_mapping)"
   ]
  },
  {
   "cell_type": "code",
   "execution_count": 6,
   "metadata": {},
   "outputs": [],
   "source": [
    "!rm -rf results/\n",
    "!mkdir results/"
   ]
  },
  {
   "cell_type": "code",
   "execution_count": 6,
   "metadata": {},
   "outputs": [
    {
     "name": "stderr",
     "output_type": "stream",
     "text": [
      "100%|██████████| 43/43 [00:14<00:00,  3.33it/s]\n"
     ]
    }
   ],
   "source": [
    "for _, row in tqdm(df.iterrows(), total=len(df)):\n",
    "    \n",
    "    algorithm, dataset = row['algorithm'], row['dataset']\n",
    "    min_parameter = row['min_parameter']\n",
    "    \n",
    "    data = row[spark].T.reset_index()\n",
    "    data.columns = ['parameters', 'time']\n",
    "    \n",
    "    min_idx = data[data['parameters'] == min_parameter].index[0]\n",
    "    \n",
    "    plt.figure(figsize=(10, 5))\n",
    "    \n",
    "    graph = sns.barplot(x='parameters', y='time', data=data, color='lightblue')\n",
    "    \n",
    "    for patch in graph.patches:\n",
    "        height, width, x = patch.get_height(), patch.get_width(), patch.get_x()\n",
    "        graph.annotate(int(height), (x + width / 2., height), ha='center', va='center', xytext=(0, 10), textcoords='offset points')\n",
    "    \n",
    "    graph.patches[min_idx].set_color('lightcoral')\n",
    "    \n",
    "    plt.ylim(0, graph.get_ylim()[1] * 1.05)\n",
    "    plt.xlabel('Parameters')\n",
    "    plt.ylabel('Time (ms)')\n",
    "    plt.title(f\"{dataset} - {algorithm}\")\n",
    "    plt.xticks(rotation=90)\n",
    "\n",
    "    plt.savefig(f\"results/25-training-{dataset}-{algorithm}.png\", bbox_inches='tight')\n",
    "    plt.close()"
   ]
  },
  {
   "cell_type": "code",
   "execution_count": 7,
   "metadata": {},
   "outputs": [
    {
     "name": "stdout",
     "output_type": "stream",
     "text": [
      "results/\n",
      "results/25-training-DHG-GMM.png\n",
      "results/25-training-DGS-GBT.png\n",
      "results/25-training-DSS-GBT.png\n",
      "results/25-training-DHG-BKM.png\n",
      "results/25-training-DGS-KM.png\n",
      "results/75-training-DSS-MLP.png\n",
      "results/25-training-DHG-BLR.png\n",
      "results/75-training-DHG-RFR.png\n",
      "results/25-training-DDF-LR.png\n",
      "results/25-training-DDR-BKM.png\n",
      "results/75-training-DGS-DT.png\n",
      "results/25-training-DDF-GBT.png\n",
      "results/75-training-DDR-BLR.png\n",
      "results/75-training-DDF-MLP.png\n",
      "results/75-training-DDF-RFR.png\n",
      "results/25-training-DDF-BKM.png\n",
      "results/25-training-DSS-BLR.png\n",
      "results/75-training-DDR-GBT.png\n",
      "results/75-training-DSS-BLR.png\n",
      "results/75-training-DDR-RFR.png\n",
      "results/25-training-DHG-DT.png\n",
      "results/75-training-DDF-LR.png\n",
      "results/75-training-DDR-KM.png\n",
      "results/25-training-DHG-GBT.png\n",
      "results/25-training-DSS-BKM.png\n",
      "results/75-training-DGS-LR.png\n",
      "results/75-training-DHG-LR.png\n",
      "results/25-training-DDF-BLR.png\n",
      "results/75-training-DGS-BLR.png\n",
      "results/25-training-DDR-MLP.png\n",
      "results/75-training-DDR-BKM.png\n",
      "results/75-training-DDR-MLP.png\n",
      "results/25-training-DGS-GMM.png\n",
      "results/25-training-DHG-KM.png\n",
      "results/75-training-DGS-GBT.png\n",
      "results/75-training-DDR-LR.png\n",
      "results/25-training-DSS-LR.png\n",
      "results/75-training-DSS-DT.png\n",
      "results/25-training-DGS-LR.png\n",
      "results/25-training-DSS-GMM.png\n",
      "results/75-training-DGS-RFR.png\n",
      "results/25-training-DGS-DT.png\n",
      "results/75-training-DDF-KM.png\n",
      "results/75-training-DHG-BKM.png\n",
      "results/25-training-DDF-KM.png\n",
      "results/75-training-DGS-KM.png\n",
      "results/75-training-DDF-BLR.png\n",
      "results/25-training-DSS-RFR.png\n",
      "results/75-training-DHG-MLP.png\n",
      "results/75-training-DHG-GMM.png\n",
      "results/25-training-DHG-RFR.png\n",
      "results/75-training-DDF-BKM.png\n",
      "results/75-training-DHG-DT.png\n",
      "results/25-training-DDF-DT.png\n",
      "results/25-training-DGS-BLR.png\n",
      "results/25-training-DDF-RFR.png\n",
      "results/75-training-DDF-GBT.png\n",
      "results/25-training-DDR-GBT.png\n",
      "results/75-training-DSS-GMM.png\n",
      "results/75-training-DSS-BKM.png\n",
      "results/75-training-DGS-GMM.png\n",
      "results/25-training-DDR-LR.png\n",
      "results/25-training-DGS-RFR.png\n",
      "results/75-training-DSS-RFR.png\n",
      "results/25-training-DHG-LR.png\n",
      "results/25-training-DDR-DT.png\n",
      "results/75-training-DHG-BLR.png\n",
      "results/25-training-DGS-MLP.png\n",
      "results/25-training-DSS-MLP.png\n",
      "results/25-training-DDF-MLP.png\n",
      "results/25-training-DDR-RFR.png\n",
      "results/75-training-DDR-DT.png\n",
      "results/25-training-DGS-BKM.png\n",
      "results/75-training-DDF-DT.png\n",
      "results/25-training-DSS-DT.png\n",
      "results/75-training-DSS-KM.png\n",
      "results/75-training-DHG-KM.png\n",
      "results/75-training-DSS-GBT.png\n",
      "results/75-training-DGS-BKM.png\n",
      "results/75-training-DGS-MLP.png\n",
      "results/75-training-DHG-GBT.png\n",
      "results/25-training-DSS-KM.png\n",
      "results/25-training-DHG-MLP.png\n",
      "results/25-training-DDR-BLR.png\n",
      "results/25-training-DDR-KM.png\n",
      "results/75-training-DSS-LR.png\n"
     ]
    }
   ],
   "source": [
    "!tar -czvf results.tar.gz results"
   ]
  },
  {
   "cell_type": "code",
   "execution_count": 8,
   "metadata": {},
   "outputs": [],
   "source": [
    "!rm -rf results/"
   ]
  },
  {
   "cell_type": "code",
   "execution_count": null,
   "metadata": {},
   "outputs": [],
   "source": []
  }
 ],
 "metadata": {
  "kernelspec": {
   "display_name": "Python 3",
   "language": "python",
   "name": "python3"
  },
  "language_info": {
   "codemirror_mode": {
    "name": "ipython",
    "version": 3
   },
   "file_extension": ".py",
   "mimetype": "text/x-python",
   "name": "python",
   "nbconvert_exporter": "python",
   "pygments_lexer": "ipython3",
   "version": "3.6.7"
  }
 },
 "nbformat": 4,
 "nbformat_minor": 2
}
