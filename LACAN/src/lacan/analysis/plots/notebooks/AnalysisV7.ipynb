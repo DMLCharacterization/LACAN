{
 "cells": [
  {
   "cell_type": "code",
   "execution_count": 1,
   "metadata": {},
   "outputs": [],
   "source": [
    "import pandas as pd\n",
    "import numpy as np\n",
    "import matplotlib.pyplot as plt\n",
    "import seaborn as sns"
   ]
  },
  {
   "cell_type": "code",
   "execution_count": 2,
   "metadata": {},
   "outputs": [
    {
     "data": {
      "text/html": [
       "<div>\n",
       "<style scoped>\n",
       "    .dataframe tbody tr th:only-of-type {\n",
       "        vertical-align: middle;\n",
       "    }\n",
       "\n",
       "    .dataframe tbody tr th {\n",
       "        vertical-align: top;\n",
       "    }\n",
       "\n",
       "    .dataframe thead th {\n",
       "        text-align: right;\n",
       "    }\n",
       "</style>\n",
       "<table border=\"1\" class=\"dataframe\">\n",
       "  <thead>\n",
       "    <tr style=\"text-align: right;\">\n",
       "      <th></th>\n",
       "      <th>transformTime</th>\n",
       "      <th>features</th>\n",
       "      <th>fitTime</th>\n",
       "      <th>testCount</th>\n",
       "      <th>trainCount</th>\n",
       "      <th>mae</th>\n",
       "      <th>rmse</th>\n",
       "      <th>mse</th>\n",
       "      <th>r2</th>\n",
       "      <th>algorithm</th>\n",
       "      <th>dataset</th>\n",
       "      <th>family</th>\n",
       "      <th>platformId</th>\n",
       "      <th>runId</th>\n",
       "      <th>splitter</th>\n",
       "      <th>silhouette</th>\n",
       "      <th>f1</th>\n",
       "      <th>weightedRecall</th>\n",
       "      <th>weightedPrecision</th>\n",
       "      <th>accuracy</th>\n",
       "    </tr>\n",
       "  </thead>\n",
       "  <tbody>\n",
       "    <tr>\n",
       "      <th>0</th>\n",
       "      <td>2662.0</td>\n",
       "      <td>128.0</td>\n",
       "      <td>18159.0</td>\n",
       "      <td>678.0</td>\n",
       "      <td>2797.0</td>\n",
       "      <td>11.397804</td>\n",
       "      <td>21.727306</td>\n",
       "      <td>472.075847</td>\n",
       "      <td>0.914381</td>\n",
       "      <td>Linear</td>\n",
       "      <td>drift-4</td>\n",
       "      <td>regression</td>\n",
       "      <td>21</td>\n",
       "      <td>0</td>\n",
       "      <td>random-80-20</td>\n",
       "      <td>NaN</td>\n",
       "      <td>NaN</td>\n",
       "      <td>NaN</td>\n",
       "      <td>NaN</td>\n",
       "      <td>NaN</td>\n",
       "    </tr>\n",
       "    <tr>\n",
       "      <th>1</th>\n",
       "      <td>3924.0</td>\n",
       "      <td>128.0</td>\n",
       "      <td>17422.0</td>\n",
       "      <td>678.0</td>\n",
       "      <td>2797.0</td>\n",
       "      <td>11.397804</td>\n",
       "      <td>21.727306</td>\n",
       "      <td>472.075847</td>\n",
       "      <td>0.914381</td>\n",
       "      <td>Linear</td>\n",
       "      <td>drift-4</td>\n",
       "      <td>regression</td>\n",
       "      <td>21</td>\n",
       "      <td>1</td>\n",
       "      <td>random-80-20</td>\n",
       "      <td>NaN</td>\n",
       "      <td>NaN</td>\n",
       "      <td>NaN</td>\n",
       "      <td>NaN</td>\n",
       "      <td>NaN</td>\n",
       "    </tr>\n",
       "    <tr>\n",
       "      <th>2</th>\n",
       "      <td>3377.0</td>\n",
       "      <td>128.0</td>\n",
       "      <td>15445.0</td>\n",
       "      <td>678.0</td>\n",
       "      <td>2797.0</td>\n",
       "      <td>11.397804</td>\n",
       "      <td>21.727306</td>\n",
       "      <td>472.075847</td>\n",
       "      <td>0.914381</td>\n",
       "      <td>Linear</td>\n",
       "      <td>drift-4</td>\n",
       "      <td>regression</td>\n",
       "      <td>15</td>\n",
       "      <td>0</td>\n",
       "      <td>random-80-20</td>\n",
       "      <td>NaN</td>\n",
       "      <td>NaN</td>\n",
       "      <td>NaN</td>\n",
       "      <td>NaN</td>\n",
       "      <td>NaN</td>\n",
       "    </tr>\n",
       "    <tr>\n",
       "      <th>3</th>\n",
       "      <td>1037.0</td>\n",
       "      <td>128.0</td>\n",
       "      <td>14745.0</td>\n",
       "      <td>678.0</td>\n",
       "      <td>2797.0</td>\n",
       "      <td>11.397804</td>\n",
       "      <td>21.727306</td>\n",
       "      <td>472.075847</td>\n",
       "      <td>0.914381</td>\n",
       "      <td>Linear</td>\n",
       "      <td>drift-4</td>\n",
       "      <td>regression</td>\n",
       "      <td>15</td>\n",
       "      <td>1</td>\n",
       "      <td>random-80-20</td>\n",
       "      <td>NaN</td>\n",
       "      <td>NaN</td>\n",
       "      <td>NaN</td>\n",
       "      <td>NaN</td>\n",
       "      <td>NaN</td>\n",
       "    </tr>\n",
       "    <tr>\n",
       "      <th>4</th>\n",
       "      <td>3357.0</td>\n",
       "      <td>128.0</td>\n",
       "      <td>16151.0</td>\n",
       "      <td>678.0</td>\n",
       "      <td>2797.0</td>\n",
       "      <td>11.397804</td>\n",
       "      <td>21.727306</td>\n",
       "      <td>472.075847</td>\n",
       "      <td>0.914381</td>\n",
       "      <td>Linear</td>\n",
       "      <td>drift-4</td>\n",
       "      <td>regression</td>\n",
       "      <td>46</td>\n",
       "      <td>0</td>\n",
       "      <td>random-80-20</td>\n",
       "      <td>NaN</td>\n",
       "      <td>NaN</td>\n",
       "      <td>NaN</td>\n",
       "      <td>NaN</td>\n",
       "      <td>NaN</td>\n",
       "    </tr>\n",
       "  </tbody>\n",
       "</table>\n",
       "</div>"
      ],
      "text/plain": [
       "   transformTime  features  fitTime  testCount  trainCount        mae  \\\n",
       "0         2662.0     128.0  18159.0      678.0      2797.0  11.397804   \n",
       "1         3924.0     128.0  17422.0      678.0      2797.0  11.397804   \n",
       "2         3377.0     128.0  15445.0      678.0      2797.0  11.397804   \n",
       "3         1037.0     128.0  14745.0      678.0      2797.0  11.397804   \n",
       "4         3357.0     128.0  16151.0      678.0      2797.0  11.397804   \n",
       "\n",
       "        rmse         mse        r2 algorithm  dataset      family  platformId  \\\n",
       "0  21.727306  472.075847  0.914381    Linear  drift-4  regression          21   \n",
       "1  21.727306  472.075847  0.914381    Linear  drift-4  regression          21   \n",
       "2  21.727306  472.075847  0.914381    Linear  drift-4  regression          15   \n",
       "3  21.727306  472.075847  0.914381    Linear  drift-4  regression          15   \n",
       "4  21.727306  472.075847  0.914381    Linear  drift-4  regression          46   \n",
       "\n",
       "   runId      splitter  silhouette  f1  weightedRecall  weightedPrecision  \\\n",
       "0      0  random-80-20         NaN NaN             NaN                NaN   \n",
       "1      1  random-80-20         NaN NaN             NaN                NaN   \n",
       "2      0  random-80-20         NaN NaN             NaN                NaN   \n",
       "3      1  random-80-20         NaN NaN             NaN                NaN   \n",
       "4      0  random-80-20         NaN NaN             NaN                NaN   \n",
       "\n",
       "   accuracy  \n",
       "0       NaN  \n",
       "1       NaN  \n",
       "2       NaN  \n",
       "3       NaN  \n",
       "4       NaN  "
      ]
     },
     "execution_count": 2,
     "metadata": {},
     "output_type": "execute_result"
    }
   ],
   "source": [
    "applicative = pd.read_csv(\"applicative.csv\")\n",
    "applicative.head()"
   ]
  },
  {
   "cell_type": "code",
   "execution_count": 3,
   "metadata": {},
   "outputs": [
    {
     "data": {
      "text/html": [
       "<div>\n",
       "<style scoped>\n",
       "    .dataframe tbody tr th:only-of-type {\n",
       "        vertical-align: middle;\n",
       "    }\n",
       "\n",
       "    .dataframe tbody tr th {\n",
       "        vertical-align: top;\n",
       "    }\n",
       "\n",
       "    .dataframe thead th {\n",
       "        text-align: right;\n",
       "    }\n",
       "</style>\n",
       "<table border=\"1\" class=\"dataframe\">\n",
       "  <thead>\n",
       "    <tr style=\"text-align: right;\">\n",
       "      <th></th>\n",
       "      <th>dataset</th>\n",
       "      <th>algorithm</th>\n",
       "      <th>platformId</th>\n",
       "      <th>mean</th>\n",
       "      <th>std</th>\n",
       "      <th>variation</th>\n",
       "    </tr>\n",
       "  </thead>\n",
       "  <tbody>\n",
       "    <tr>\n",
       "      <th>0</th>\n",
       "      <td>drift-3</td>\n",
       "      <td>BisectingKMeans</td>\n",
       "      <td>0</td>\n",
       "      <td>76549.0</td>\n",
       "      <td>76.367532</td>\n",
       "      <td>0.000998</td>\n",
       "    </tr>\n",
       "    <tr>\n",
       "      <th>1</th>\n",
       "      <td>drift-3</td>\n",
       "      <td>BisectingKMeans</td>\n",
       "      <td>1</td>\n",
       "      <td>116818.0</td>\n",
       "      <td>2940.149996</td>\n",
       "      <td>0.025169</td>\n",
       "    </tr>\n",
       "    <tr>\n",
       "      <th>2</th>\n",
       "      <td>drift-3</td>\n",
       "      <td>BisectingKMeans</td>\n",
       "      <td>2</td>\n",
       "      <td>106439.0</td>\n",
       "      <td>1127.128209</td>\n",
       "      <td>0.010589</td>\n",
       "    </tr>\n",
       "    <tr>\n",
       "      <th>3</th>\n",
       "      <td>drift-3</td>\n",
       "      <td>BisectingKMeans</td>\n",
       "      <td>3</td>\n",
       "      <td>92546.5</td>\n",
       "      <td>6889.341369</td>\n",
       "      <td>0.074442</td>\n",
       "    </tr>\n",
       "    <tr>\n",
       "      <th>4</th>\n",
       "      <td>drift-3</td>\n",
       "      <td>BisectingKMeans</td>\n",
       "      <td>4</td>\n",
       "      <td>69797.0</td>\n",
       "      <td>6605.791550</td>\n",
       "      <td>0.094643</td>\n",
       "    </tr>\n",
       "  </tbody>\n",
       "</table>\n",
       "</div>"
      ],
      "text/plain": [
       "   dataset        algorithm  platformId      mean          std  variation\n",
       "0  drift-3  BisectingKMeans           0   76549.0    76.367532   0.000998\n",
       "1  drift-3  BisectingKMeans           1  116818.0  2940.149996   0.025169\n",
       "2  drift-3  BisectingKMeans           2  106439.0  1127.128209   0.010589\n",
       "3  drift-3  BisectingKMeans           3   92546.5  6889.341369   0.074442\n",
       "4  drift-3  BisectingKMeans           4   69797.0  6605.791550   0.094643"
      ]
     },
     "execution_count": 3,
     "metadata": {},
     "output_type": "execute_result"
    }
   ],
   "source": [
    "data = applicative.groupby([\"dataset\", \"algorithm\", \"platformId\"]).agg({\"fitTime\": [\"mean\", \"std\"]})\n",
    "data = data[\"fitTime\"]\n",
    "data = data.reset_index()\n",
    "data[\"variation\"] = data[\"std\"] / data[\"mean\"]\n",
    "data.head()"
   ]
  },
  {
   "cell_type": "code",
   "execution_count": 12,
   "metadata": {},
   "outputs": [
    {
     "data": {
      "image/png": "[encoded data removed]",
      "text/plain": [
       "<Figure size 432x288 with 1 Axes>"
      ]
     },
     "metadata": {
      "needs_background": "light"
     },
     "output_type": "display_data"
    },
    {
     "name": "stdout",
     "output_type": "stream",
     "text": [
      "q95=0.123\n",
      "q99=0.217\n"
     ]
    }
   ],
   "source": [
    "sns.distplot(data[\"variation\"])\n",
    "plt.show()\n",
    "\n",
    "q95 = data[\"variation\"].quantile(0.95)\n",
    "q99 = data[\"variation\"].quantile(0.99)\n",
    "\n",
    "print(f\"q95={q95:.3f}\\nq99={q99:.3f}\")"
   ]
  },
  {
   "cell_type": "code",
   "execution_count": 5,
   "metadata": {},
   "outputs": [
    {
     "data": {
      "image/png": "[encoded data removed]",
      "text/plain": [
       "<Figure size 432x288 with 1 Axes>"
      ]
     },
     "metadata": {
      "needs_background": "light"
     },
     "output_type": "display_data"
    }
   ],
   "source": [
    "sns.barplot(x=\"dataset\", y=\"variation\", data=data)\n",
    "plt.xticks(rotation=90)\n",
    "plt.show()"
   ]
  },
  {
   "cell_type": "code",
   "execution_count": 16,
   "metadata": {},
   "outputs": [
    {
     "data": {
      "image/png": "[encoded data removed]",
      "text/plain": [
       "<Figure size 432x288 with 1 Axes>"
      ]
     },
     "metadata": {
      "needs_background": "light"
     },
     "output_type": "display_data"
    }
   ],
   "source": [
    "sns.barplot(x=\"algorithm\", y=\"variation\", data=data)\n",
    "plt.xticks(rotation=90)\n",
    "plt.show()"
   ]
  },
  {
   "cell_type": "code",
   "execution_count": 18,
   "metadata": {},
   "outputs": [
    {
     "data": {
      "image/png": "[encoded data removed]",
      "text/plain": [
       "<Figure size 432x288 with 1 Axes>"
      ]
     },
     "metadata": {
      "needs_background": "light"
     },
     "output_type": "display_data"
    }
   ],
   "source": [
    "sns.barplot(x=\"platformId\", y=\"variation\", data=data)\n",
    "plt.gca().get_xaxis().set_ticks([])\n",
    "plt.show()"
   ]
  },
  {
   "cell_type": "code",
   "execution_count": null,
   "metadata": {},
   "outputs": [],
   "source": []
  }
 ],
 "metadata": {
  "kernelspec": {
   "display_name": "Python 3",
   "language": "python",
   "name": "python3"
  },
  "language_info": {
   "codemirror_mode": {
    "name": "ipython",
    "version": 3
   },
   "file_extension": ".py",
   "mimetype": "text/x-python",
   "name": "python",
   "nbconvert_exporter": "python",
   "pygments_lexer": "ipython3",
   "version": "3.6.7"
  }
 },
 "nbformat": 4,
 "nbformat_minor": 2
}
